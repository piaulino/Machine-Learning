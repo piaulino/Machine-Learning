{
  "nbformat": 4,
  "nbformat_minor": 0,
  "metadata": {
    "colab": {
      "provenance": [],
      "authorship_tag": "ABX9TyNGqHYoNFivp+/+OhHAFTrp"
    },
    "kernelspec": {
      "name": "python3",
      "display_name": "Python 3"
    },
    "language_info": {
      "name": "python"
    }
  },
  "cells": [
    {
      "cell_type": "code",
      "source": [
        "import pandas as pd\n",
        "import numpy as np\n",
        "import os\n",
        "\n",
        "# Definir o número de registros\n",
        "num_registros = 1000\n",
        "\n",
        "# Gerar dados de exemplo\n",
        "np.random.seed(42)  # Para garantir a reprodutibilidade\n",
        "\n",
        "id_carro = np.arange(1, num_registros + 1)\n",
        "uniformidade_cor = np.random.uniform(0, 10, num_registros)  # Escala de 0 a 10\n",
        "brilho = np.random.uniform(0, 10, num_registros)  # Escala de 0 a 10\n",
        "adesao = np.random.uniform(0, 10, num_registros)  # Escala de 0 a 10\n",
        "\n",
        "# Calcular a qualidade geral da cor\n",
        "qualidade_geral = (0.3 * uniformidade_cor + 0.4 * brilho + 0.3 * adesao) / 10\n",
        "qualidade_geral = np.where(qualidade_geral < 0.33, 0, np.where(qualidade_geral < 0.66, 1, 2))\n",
        "\n",
        "# Criar DataFrame\n",
        "data = pd.DataFrame({\n",
        "    'id_carro': id_carro,\n",
        "    'uniformidade_cor': uniformidade_cor,\n",
        "    'brilho': brilho,\n",
        "    'adesao': adesao,\n",
        "    'qualidade_geral': qualidade_geral\n",
        "})\n",
        "\n",
        "# Criar o diretório 'medicoes' se não existir\n",
        "os.makedirs('medicoes', exist_ok=True)\n",
        "\n",
        "# Salvar o arquivo CSV na pasta 'medicoes'\n",
        "data.to_csv('medicoes/cores_coletadas.csv', index=False)\n",
        "\n",
        "print(\"Arquivo CSV com dados de qualidade de carros gerado com sucesso na pasta 'medicoes'!\")\n"
      ],
      "metadata": {
        "colab": {
          "base_uri": "https://localhost:8080/"
        },
        "id": "q_7GeyDV4vjS",
        "outputId": "94fe1ac7-1dcf-4974-f0b6-6de51eeb8259"
      },
      "execution_count": 11,
      "outputs": [
        {
          "output_type": "stream",
          "name": "stdout",
          "text": [
            "Arquivo CSV com dados de qualidade de carros gerado com sucesso na pasta 'medicoes'!\n"
          ]
        }
      ]
    }
  ]
}